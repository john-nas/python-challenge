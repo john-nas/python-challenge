{
 "cells": [
  {
   "cell_type": "code",
   "execution_count": 70,
   "metadata": {},
   "outputs": [],
   "source": [
    "import os\n",
    "import csv\n",
    "import collections\n",
    "\n",
    "## Set filepath for the CSV file in PyPollcsv and output of Solution\n",
    "\n",
    "PyPollcsv = os.path.join(\"Resources\",\"election_data.csv\")\n",
    "election_analysis_txt = os.path.join(\"Resources\",\"election_analysis.txt\")"
   ]
  },
  {
   "cell_type": "code",
   "execution_count": 71,
   "metadata": {},
   "outputs": [],
   "source": [
    "## Create lists for the election_data.csv\n",
    "    \n",
    "count_voter_id = 0\n",
    "votes_per_candidate = []\n",
    "votes_per_candidate_percentage = []"
   ]
  },
  {
   "cell_type": "code",
   "execution_count": 72,
   "metadata": {},
   "outputs": [],
   "source": [
    "## import the csv file\n",
    "with open(PyPollcsv) as csv_file:\n",
    "    csv_reader = csv.reader(csv_file)\n",
    "    next(csv_reader)\n",
    "## Run loop to find Month with greatest increase/decrease\n",
    "    for row in csv_reader:\n",
    "## Set the candidate names to candidate_list\n",
    "        count_voter_id  = sum(1 for row in csv_reader)\n"
   ]
  },
  {
   "cell_type": "code",
   "execution_count": 73,
   "metadata": {},
   "outputs": [],
   "source": [
    "## Create a set from the candidate_list to get the unique candidate names\n",
    "candidate_list = []\n",
    "unique_candidate = []\n",
    "\n",
    "## import the csv file\n",
    "with open(PyPollcsv) as csv_file:\n",
    "    csv_reader = csv.reader(csv_file)\n",
    "    next(csv_reader)\n",
    "## Run loop to find list of candidates from csv\n",
    "    for row in csv_reader:\n",
    "## Set the candidate names to candidate_list\n",
    "        candidate_list.append(row[2])\n"
   ]
  },
  {
   "cell_type": "code",
   "execution_count": 74,
   "metadata": {},
   "outputs": [],
   "source": [
    "## Create a set from the Candidate List to get the unique candidate names \n",
    "for x in candidate_list:\n",
    "     if x not in unique_candidate:\n",
    "        unique_candidate.append(x)\n",
    "## y total votes for each of the unique cadidates\n",
    "        y = candidate_list.count(x)\n",
    "        votes_per_candidate.append(y)\n",
    "        z = (y/count_voter_id)*100\n",
    "        votes_per_candidate_percentage.append(z)"
   ]
  },
  {
   "cell_type": "code",
   "execution_count": 75,
   "metadata": {},
   "outputs": [],
   "source": [
    "## Get Candidate name with highest vote count and establish winner\n",
    "winning_votes_total = max(votes_per_candidate)\n",
    "winner = unique_candidate[votes_per_candidate.index(winning_votes_total)]"
   ]
  },
  {
   "cell_type": "code",
   "execution_count": 76,
   "metadata": {},
   "outputs": [
    {
     "name": "stdout",
     "output_type": "stream",
     "text": [
      "-------------------------\n",
      "Election Results\n",
      "-------------------------\n",
      "Total Votes: 3521000\n",
      "-------------------------\n",
      "Khan: 63.00002840102243% (2218231)\n",
      "Correy: 20.0% (704200)\n",
      "Li: 14.000000000000002% (492940)\n",
      "O'Tooley: 3.0% (105630)\n",
      "-------------------------\n",
      "Winner: Khan\n"
     ]
    }
   ],
   "source": [
    "## Print Results of PyPoll Analysis\n",
    "\n",
    "print(\"-------------------------\")\n",
    "print(\"Election Results\")\n",
    "print(\"-------------------------\")\n",
    "print(\"Total Votes: \" + str(count_voter_id))\n",
    "print(\"-------------------------\")\n",
    "for i in range(len(unique_candidate)):\n",
    "     print(unique_candidate[i] + \": \" + str(votes_per_candidate_percentage[i]) +\"% (\" + str(votes_per_candidate[i])+ \")\")\n",
    "print(\"-------------------------\")\n",
    "print(\"Winner: \" + winner)\n"
   ]
  },
  {
   "cell_type": "code",
   "execution_count": 77,
   "metadata": {},
   "outputs": [],
   "source": [
    "## Copy Results of PyPoll Restuls Analysis to text file \n",
    "with open('PyPoll_results_Analysis.txt', 'w') as text:\n",
    "    text.write(\"-------------------------\\n\")\n",
    "    text.write(\"Election Results\\n\")\n",
    "    text.write(\"-------------------------\\n\")\n",
    "    text.write(\"Total Votes: \" + str(count_voter_id) + \"\\n\")\n",
    "    text.write(\"-------------------------\\n\")\n",
    "    for i in range(len(unique_candidate)):\n",
    "         text.write(unique_candidate[i] + \": \" + str(votes_per_candidate_percentage[i]) +\"% (\" + str(votes_per_candidate[i])+ \")\")\n",
    "    text.write(\"-------------------------\\n\")\n",
    "    text.write(\"Winner: \" + winner + \"\\n\")\n",
    "    text.write(\"-------------------------\\n\")"
   ]
  },
  {
   "cell_type": "code",
   "execution_count": null,
   "metadata": {},
   "outputs": [],
   "source": []
  }
 ],
 "metadata": {
  "anaconda-cloud": {},
  "kernelspec": {
   "display_name": "Python 3",
   "language": "python",
   "name": "python3"
  },
  "language_info": {
   "codemirror_mode": {
    "name": "ipython",
    "version": 3
   },
   "file_extension": ".py",
   "mimetype": "text/x-python",
   "name": "python",
   "nbconvert_exporter": "python",
   "pygments_lexer": "ipython3",
   "version": "3.8.8"
  }
 },
 "nbformat": 4,
 "nbformat_minor": 4
}
