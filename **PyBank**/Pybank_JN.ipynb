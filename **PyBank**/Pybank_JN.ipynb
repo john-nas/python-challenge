{
 "cells": [
  {
   "cell_type": "code",
   "execution_count": 26,
   "metadata": {},
   "outputs": [],
   "source": [
    "\n",
    "import os\n",
    "import csv\n",
    "\n",
    "## Set filepath for the CSV file in PyBankcsv and output of Solution\n",
    "\n",
    "PyBankcsv = os.path.join(\"Resources\",\"budget_data.csv\")\n",
    "Budget_analysis_txt = os.path.join(\"Resources\",\"Budget_analysis.txt\")"
   ]
  },
  {
   "cell_type": "code",
   "execution_count": 27,
   "metadata": {},
   "outputs": [],
   "source": [
    "## Create lists for the budget_data.csv\n",
    "    \n",
    "month_list = []\n",
    "profit_loss_list = []"
   ]
  },
  {
   "cell_type": "code",
   "execution_count": 28,
   "metadata": {},
   "outputs": [],
   "source": [
    "## import the csv file\n",
    "with open(PyBankcsv) as csv_file:\n",
    "    csv_reader = csv.reader(csv_file)\n",
    "    next(csv_reader)\n",
    "    \n",
    "    for row in csv_reader:\n",
    "        month_list.append(str(row[0]))\n",
    "        profit_loss_list.append(int(row[1]))\n",
    "    \n",
    "\n"
   ]
  },
  {
   "cell_type": "code",
   "execution_count": 29,
   "metadata": {},
   "outputs": [],
   "source": [
    "\n",
    "## the total number of months included in the dataset.\n",
    "count_months = len(month_list)\n"
   ]
  },
  {
   "cell_type": "code",
   "execution_count": 30,
   "metadata": {},
   "outputs": [],
   "source": [
    "\n",
    "## Define the beginning value of net profit/loss for loop\n",
    "net_profit_loss = 0\n"
   ]
  },
  {
   "cell_type": "code",
   "execution_count": 31,
   "metadata": {},
   "outputs": [],
   "source": [
    "for x in profit_loss_list:\n",
    "    net_profit_loss = net_profit_loss + x"
   ]
  },
  {
   "cell_type": "code",
   "execution_count": 32,
   "metadata": {},
   "outputs": [],
   "source": [
    "\n",
    "\n",
    "## Define the avg_monthly_change_list\n",
    "avg_monthly_change_list = []\n",
    "\n",
    "\n",
    "## Define the beginning value of previous_month_amount for loop\n",
    "previous_month_amount = 0\n",
    "\n",
    "#print(profit_loss_list)\n",
    "\n",
    "for y in range(len(profit_loss_list)):\n",
    "    if y == 0:\n",
    "                    previous_month_amount = profit_loss_list[y]\n",
    "    else:\n",
    "                    monthly_change = profit_loss_list[y] - previous_month_amount\n",
    "                    avg_monthly_change_list.append(monthly_change)\n",
    "                    previous_month_amount = profit_loss_list[y]\n"
   ]
  },
  {
   "cell_type": "code",
   "execution_count": 33,
   "metadata": {},
   "outputs": [
    {
     "name": "stdout",
     "output_type": "stream",
     "text": [
      "[116771, -662642, -391430, 379920, 212354, 510239, -428211, -821271, 693918, 416278, -974163, 860159, -1115009, 1033048, 95318, -308093, 99052, -521393, 605450, 231727, -65187, -702716, 177975, -1065544, 1926159, -917805, 898730, -334262, -246499, -64055, -1529236, 1497596, 304914, -635801, 398319, -183161, -37864, -253689, 403655, 94168, 306877, -83000, 210462, -2196167, 1465222, -956983, 1838447, -468003, -64602, 206242, -242155, -449079, 315198, 241099, 111540, 365942, -219310, -368665, 409837, 151210, -110244, -341938, -1212159, 683246, -70825, 335594, 417334, -272194, -236462, 657432, -211262, -128237, -1750387, 925441, 932089, -311434, 267252, -1876758, 1733696, 198551, -665765, 693229, -734926, 77242, 532869]\n"
     ]
    }
   ],
   "source": [
    "print(avg_monthly_change_list)\n",
    "\n",
    "len_list = len(avg_monthly_change_list)\n",
    "sum_list = sum(avg_monthly_change_list)\n",
    "\n",
    "if len_list == 0:\n",
    "    profit_loss_avg = 0\n",
    "else:\n",
    "    profit_loss_avg = sum_list / len_list\n",
    "\n"
   ]
  },
  {
   "cell_type": "code",
   "execution_count": 34,
   "metadata": {},
   "outputs": [],
   "source": [
    "## the min and max profit/loss and corresponding month\n",
    "month_greatest_increase = ''\n",
    "amount_greatest_increase = 0\n",
    "month_greatest_decrease = ''\n",
    "amount_greatest_decrease = 0"
   ]
  },
  {
   "cell_type": "code",
   "execution_count": 35,
   "metadata": {},
   "outputs": [],
   "source": [
    "## Run loop to find Month with greatest increase/decrease\n",
    "\n",
    "for i in range(len(avg_monthly_change_list)):\n",
    "    if avg_monthly_change_list[i] > amount_greatest_increase:\n",
    "        amount_greatest_increase = avg_monthly_change_list[i]\n",
    "        month_greatest_increase = month_list[i+1]\n",
    "    elif avg_monthly_change_list[i] < amount_greatest_decrease:\n",
    "        amount_greatest_decrease = avg_monthly_change_list[i]\n",
    "        month_greatest_decrease = month_list[i+1]"
   ]
  },
  {
   "cell_type": "code",
   "execution_count": 36,
   "metadata": {},
   "outputs": [],
   "source": [
    "\n",
    "## Print Results of Analysis\n",
    "Output_Data=f\"Pybank Analysis Reults\\n\\\n",
    "----------------------------------------------------------------------------\\n\\\n",
    "Total Months: {count_months}\\n\\\n",
    "Total: ${net_profit_loss}\\n\\\n",
    "Average Change: {profit_loss_avg}\\n\\\n",
    "The Greatest Increase in Profits occured in {month_greatest_increase} and amounted to ${amount_greatest_increase}\\n\\\n",
    "The Greatest Decrease in Profits occured in {month_greatest_decrease} and amounted to ${amount_greatest_decrease}\"\n",
    "\n"
   ]
  },
  {
   "cell_type": "code",
   "execution_count": 37,
   "metadata": {},
   "outputs": [
    {
     "name": "stdout",
     "output_type": "stream",
     "text": [
      "Pybank Analysis Reults\n",
      "----------------------------------------------------------------------------\n",
      "Total Months: 86\n",
      "Total: $38382578\n",
      "Average Change: -2315.1176470588234\n",
      "The Greatest Increase in Profits occured in Feb-2012 and amounted to $1926159\n",
      "The Greatest Decrease in Profits occured in Sep-2013 and amounted to $-2196167\n"
     ]
    }
   ],
   "source": [
    "print(Output_Data)\n"
   ]
  },
  {
   "cell_type": "code",
   "execution_count": 38,
   "metadata": {},
   "outputs": [],
   "source": [
    "## Output results in to text file\n",
    "with open(Budget_analysis_txt, \"w\") as txt_file:\n",
    "    txt_file.write(Output_Data)\n"
   ]
  },
  {
   "cell_type": "code",
   "execution_count": null,
   "metadata": {},
   "outputs": [],
   "source": []
  },
  {
   "cell_type": "code",
   "execution_count": null,
   "metadata": {},
   "outputs": [],
   "source": []
  }
 ],
 "metadata": {
  "interpreter": {
   "hash": "0bc1d57d8236be0a3913090b3202ea3c5577fb19fe52f2f4ab0cc3c531d7a2d0"
  },
  "kernelspec": {
   "display_name": "Python 3",
   "language": "python",
   "name": "python3"
  },
  "language_info": {
   "codemirror_mode": {
    "name": "ipython",
    "version": 3
   },
   "file_extension": ".py",
   "mimetype": "text/x-python",
   "name": "python",
   "nbconvert_exporter": "python",
   "pygments_lexer": "ipython3",
   "version": "3.8.8"
  }
 },
 "nbformat": 4,
 "nbformat_minor": 2
}
